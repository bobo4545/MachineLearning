{
  "nbformat": 4,
  "nbformat_minor": 0,
  "metadata": {
    "colab": {
      "provenance": []
    },
    "kernelspec": {
      "name": "python3",
      "display_name": "Python 3"
    },
    "language_info": {
      "name": "python"
    }
  },
  "cells": [
    {
      "cell_type": "code",
      "execution_count": 4,
      "metadata": {
        "colab": {
          "base_uri": "https://localhost:8080/"
        },
        "id": "x_zJV_CRUvy7",
        "outputId": "2b3ec737-c160-46f4-e51d-56a822c6ecbf"
      },
      "outputs": [
        {
          "output_type": "stream",
          "name": "stdout",
          "text": [
            "分群結果：\n",
            "[1 1 1 1 1 1 1 1 1 1 1 1 1 1 1 1 1 1 1 1 1 1 1 1 1 1 1 1 1 1 1 1 1 1 1 1 1\n",
            " 1 1 1 1 1 1 1 1 1 1 1 1 1 0 0 2 0 0 0 0 0 0 0 0 0 0 0 0 0 0 0 0 0 0 0 0 0\n",
            " 0 0 0 2 0 0 0 0 0 0 0 0 0 0 0 0 0 0 0 0 0 0 0 0 0 0 2 0 2 2 2 2 0 2 2 2 2\n",
            " 2 2 0 0 2 2 2 2 0 2 0 2 0 2 2 0 0 2 2 2 2 2 0 2 2 2 2 0 2 2 2 0 2 2 2 0 2\n",
            " 2 0]\n",
            "真實品種：\n",
            "[0 0 0 0 0 0 0 0 0 0 0 0 0 0 0 0 0 0 0 0 0 0 0 0 0 0 0 0 0 0 0 0 0 0 0 0 0\n",
            " 0 0 0 0 0 0 0 0 0 0 0 0 0 1 1 1 1 1 1 1 1 1 1 1 1 1 1 1 1 1 1 1 1 1 1 1 1\n",
            " 1 1 1 1 1 1 1 1 1 1 1 1 1 1 1 1 1 1 1 1 1 1 1 1 1 1 2 2 2 2 2 2 2 2 2 2 2\n",
            " 2 2 2 2 2 2 2 2 2 2 2 2 2 2 2 2 2 2 2 2 2 2 2 2 2 2 2 2 2 2 2 2 2 2 2 2 2\n",
            " 2 2]\n",
            "0.24\n"
          ]
        }
      ],
      "source": [
        "from sklearn.cluster import KMeans\n",
        "from sklearn.datasets import load_iris\n",
        "from sklearn.metrics import accuracy_score\n",
        "\n",
        "# 讀入鳶尾花資料集\n",
        "iris = load_iris()\n",
        "iris_data = iris.data           # 特徵資料 (花萼長度、花萼寬度、花瓣長度、花瓣寬度)\n",
        "iris_label = iris.target        # 真實標籤 (品種)\n",
        "\n",
        "# 建立 KMeans 分群器，設定分成 3 群\n",
        "clf = KMeans(3)\n",
        "iris_clf = clf.fit(iris_data)   # 將資料餵入分群器進行訓練\n",
        "\n",
        "cluster_labels = iris_clf.labels_   # 取得分群結果的標籤\n",
        "print(\"分群結果：\")\n",
        "print(cluster_labels)\n",
        "\n",
        "# 印出鳶尾花的真實品種標籤\n",
        "print(\"真實品種：\")\n",
        "print(iris_label)\n",
        "\n",
        "# 計算分群標籤與真實標籤的準確率 (注意：分群標籤與真實標籤的數字未必一一對應)\n",
        "print(accuracy_score(cluster_labels, iris_label))"
      ]
    }
  ]
}