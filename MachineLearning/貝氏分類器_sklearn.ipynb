{
  "nbformat": 4,
  "nbformat_minor": 0,
  "metadata": {
    "colab": {
      "provenance": []
    },
    "kernelspec": {
      "name": "python3",
      "display_name": "Python 3"
    },
    "language_info": {
      "name": "python"
    }
  },
  "cells": [
    {
      "cell_type": "code",
      "execution_count": 1,
      "metadata": {
        "colab": {
          "base_uri": "https://localhost:8080/"
        },
        "id": "x_zJV_CRUvy7",
        "outputId": "2c2dfcfd-3647-4bb7-9bcc-e6731b75d7af"
      },
      "outputs": [
        {
          "output_type": "stream",
          "name": "stdout",
          "text": [
            "訓練資料正確率: 0.9428571428571428\n",
            "測試資料正確率: 1.0\n",
            "標準答案: [2 1 0 2 0 2 0 1 1 1 2 1 1 1 1 0 1 1 0 0 2 1 0 0 2 0 0 1 1 0 2 1 0 2 2 1 0\n",
            " 1 1 1 2 0 2 0 0]\n",
            "預測答案: [2 1 0 2 0 2 0 1 1 1 2 1 1 1 1 0 1 1 0 0 2 1 0 0 2 0 0 1 1 0 2 1 0 2 2 1 0\n",
            " 1 1 1 2 0 2 0 0]\n"
          ]
        }
      ],
      "source": [
        "from sklearn import datasets # 匯入 sklearn 的資料集模組\n",
        "from sklearn.naive_bayes import GaussianNB # 匯入高斯樸素貝氏分類器\n",
        "from sklearn.model_selection import train_test_split # 匯入資料切分工具\n",
        "\n",
        "iris = datasets.load_iris() # 讀取鳶尾花資料集\n",
        "x = iris.data # 取得特徵資料\n",
        "y = iris.target # 取得標籤資料\n",
        "train_data, test_data, train_label, test_label = train_test_split(x, y, test_size=0.3, random_state=0) # 切分訓練資料和測試資料，測試資料占 30%\n",
        "clf = GaussianNB() # 建立高斯樸素貝氏分類器\n",
        "clf.fit(train_data, train_label) # 用訓練資料訓練分類器\n",
        "print(\"訓練資料正確率:\", clf.score(train_data, train_label))  # 計算並顯示訓練資料的正確率\n",
        "print(\"測試資料正確率:\", clf.score(test_data, test_label))  # 計算並顯示測試資料的正確率\n",
        "predict = clf.predict(test_data) # 用訓練好的分類器預測測試資料的結果\n",
        "print(\"標準答案:\", test_label)  # 顯示測試資料的正確標籤\n",
        "print(\"預測答案:\", predict)     # 顯示模型預測的標籤"
      ]
    }
  ]
}