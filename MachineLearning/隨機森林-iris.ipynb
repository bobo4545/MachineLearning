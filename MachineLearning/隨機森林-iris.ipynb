{
  "nbformat": 4,
  "nbformat_minor": 0,
  "metadata": {
    "colab": {
      "provenance": []
    },
    "kernelspec": {
      "name": "python3",
      "display_name": "Python 3"
    },
    "language_info": {
      "name": "python"
    }
  },
  "cells": [
    {
      "cell_type": "code",
      "execution_count": 22,
      "metadata": {
        "colab": {
          "base_uri": "https://localhost:8080/"
        },
        "id": "bqSpoGCKFBwA",
        "outputId": "987bb17c-df11-49ae-e5b3-d1d97f192dc6"
      },
      "outputs": [
        {
          "output_type": "stream",
          "name": "stdout",
          "text": [
            "訓練資料正確率: 1.0\n",
            "測試資料正確率: 0.9333333333333333\n",
            "標準答案: [1 0 0 2 0 0 0 2 1 1 1 1 2 1 1 0 2 2 1 2 0 0 0 0 1 2 1 2 0 1 1 2 1 1 1 2 0\n",
            " 0 2 1 1 2 0 0 1]\n",
            "預測答案: [1 0 0 2 0 0 0 2 1 1 1 1 2 1 1 0 2 2 1 2 0 0 0 0 2 2 1 2 0 1 2 2 1 1 2 2 0\n",
            " 0 2 1 1 2 0 0 1]\n"
          ]
        }
      ],
      "source": [
        "from sklearn.ensemble import RandomForestClassifier  # 匯入隨機森林分類器\n",
        "from sklearn.datasets import load_iris  # 匯入內建的鳶尾花資料集\n",
        "from sklearn.model_selection import train_test_split  # 匯入資料切分工具\n",
        "\n",
        "# 讀入鳶尾花資料\n",
        "# 鳶尾花資料集是一個常用的分類資料集，包含 150 筆資料，每筆資料有 4 個特徵\n",
        "iris = load_iris()\n",
        "iris_data = iris.data  # 特徵資料 (花萼長度、花萼寬度、花瓣長度、花瓣寬度)\n",
        "iris_label = iris.target  # 標籤資料 (0: setosa, 1: versicolor, 2: virginica)\n",
        "\n",
        "# 切分訓練與測試資料\n",
        "# 將資料分為訓練集和測試集，測試集佔 30%，訓練集佔 70%\n",
        "train_data, test_data, train_label, test_label = train_test_split(iris_data, iris_label, test_size=0.3)\n",
        "\n",
        "# 建立隨機森林分類器\n",
        "# n_estimators: 樹的數量\n",
        "# max_depth: 每棵樹的最大深度\n",
        "clf = RandomForestClassifier(n_estimators=30, max_depth=4)\n",
        "\n",
        "# 使用訓練資料進行模型訓練\n",
        "iris_clf = clf.fit(train_data, train_label)\n",
        "\n",
        "# 計算並輸出訓練資料的正確率\n",
        "print(\"訓練資料正確率:\", clf.score(train_data, train_label))  # 使用訓練資料評估模型準確度\n",
        "\n",
        "# 計算並輸出測試資料的正確率\n",
        "print(\"測試資料正確率:\", clf.score(test_data, test_label))  # 使用測試資料評估模型準確度\n",
        "\n",
        "# 使用測試資料進行預測\n",
        "predict = clf.predict(test_data)  # 對測試資料進行分類預測\n",
        "\n",
        "# 輸出測試資料的標準答案 (實際的標籤) 與模型預測的結果\n",
        "print(\"標準答案:\", test_label)  # 測試資料的實際標籤\n",
        "print(\"預測答案:\", predict)  # 測試資料的預測標籤"
      ]
    }
  ]
}
