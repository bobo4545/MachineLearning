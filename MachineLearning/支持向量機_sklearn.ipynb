{
  "nbformat": 4,
  "nbformat_minor": 0,
  "metadata": {
    "colab": {
      "provenance": []
    },
    "kernelspec": {
      "name": "python3",
      "display_name": "Python 3"
    },
    "language_info": {
      "name": "python"
    }
  },
  "cells": [
    {
      "cell_type": "code",
      "execution_count": null,
      "metadata": {
        "colab": {
          "base_uri": "https://localhost:8080/"
        },
        "id": "x_zJV_CRUvy7",
        "outputId": "fca87292-2faa-4a4b-f354-fe894a95eaad"
      },
      "outputs": [
        {
          "output_type": "stream",
          "name": "stdout",
          "text": [
            "訓練資料正確率: 1.0\n",
            "測試資料正確率: 0.9777777777777777\n",
            "標準答案: [2 1 0 2 0 2 0 1 1 1 2 1 1 1 1 0 1 1 0 0 2 1 0 0 2 0 0 1 1 0 2 1 0 2 2 1 0\n",
            " 1 1 1 2 0 2 0 0]\n",
            "預測答案: [2 1 0 2 0 2 0 1 1 1 2 1 1 1 1 0 1 1 0 0 2 1 0 0 2 0 0 1 1 0 2 1 0 2 2 1 0\n",
            " 2 1 1 2 0 2 0 0]\n"
          ]
        }
      ],
      "source": [
        "from sklearn import datasets, svm\n",
        "from sklearn.model_selection import train_test_split\n",
        "\n",
        "# 讀入鳶尾花資料集\n",
        "iris = datasets.load_iris()\n",
        "x = iris.data        # 特徵資料\n",
        "y = iris.target      # 標籤資料\n",
        "\n",
        "# 切分訓練與測試資料集，test_size=0.3 代表 30% 做為測試資料\n",
        "train_data, test_data, train_label, test_label = train_test_split(x, y, test_size=0.3, random_state=0)\n",
        "\n",
        "# 建立 SVM 分類器，使用多項式 (poly) kernel，gamma 設為 'auto'，C 設為 100\n",
        "clf = svm.SVC(kernel='poly', gamma='auto', C=100)\n",
        "\n",
        "clf.fit(train_data, train_label) # 將訓練資料餵入分類器做訓練\n",
        "\n",
        "print(\"訓練資料正確率:\", clf.score(train_data, train_label))  # 訓練資料正確率\n",
        "\n",
        "print(\"測試資料正確率:\", clf.score(test_data, test_label))  # 測試資料正確率\n",
        "\n",
        "predict = clf.predict(test_data) # 預測測試資料的答案\n",
        "\n",
        "# 顯示標準答案\n",
        "print(\"標準答案:\", test_label)     # 標準答案\n",
        "\n",
        "# 顯示預測答案\n",
        "print(\"預測答案:\", predict)         # 預測答案"
      ]
    }
  ]
}